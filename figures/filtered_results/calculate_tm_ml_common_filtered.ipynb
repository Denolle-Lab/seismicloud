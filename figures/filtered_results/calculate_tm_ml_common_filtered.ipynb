{
 "cells": [
  {
   "cell_type": "markdown",
   "id": "85598f5c-404b-4160-a182-9ebb3d095fd5",
   "metadata": {},
   "source": [
    "# Code to reproduce tm_ml_common_filtered.txt file from original catalogs"
   ]
  },
  {
   "cell_type": "code",
   "execution_count": 1,
   "id": "044e344f-457a-41b3-9d4e-d0450ca4193a",
   "metadata": {},
   "outputs": [],
   "source": [
    "import obspy\n",
    "import glob\n",
    "import matplotlib.pyplot as plt\n",
    "import numpy as np\n",
    "import datetime\n",
    "import matplotlib\n",
    "matplotlib.rcParams.update({'font.size': 18})\n",
    "matplotlib.rcParams['font.family'] = ['Arial']"
   ]
  },
  {
   "cell_type": "code",
   "execution_count": null,
   "id": "980ec168-a0b9-4433-a24e-01f7b9092246",
   "metadata": {},
   "outputs": [],
   "source": [
    "ml_cat = obspy.core.event.read_events('result_catalogs/ml_2017.xml',format='QUAKEML')"
   ]
  },
  {
   "cell_type": "code",
   "execution_count": null,
   "id": "19e5aa17-34c7-4093-ba41-b79d423792cd",
   "metadata": {},
   "outputs": [],
   "source": [
    "tm_cat = obspy.core.event.read_events('result_catalogs/tm_2017.xml',format='QUAKEML')"
   ]
  },
  {
   "cell_type": "markdown",
   "id": "626cde32-3a39-4e2d-abe2-c737c0d05a59",
   "metadata": {},
   "source": [
    "## Filter catalogs"
   ]
  },
  {
   "cell_type": "code",
   "execution_count": null,
   "id": "0cd07079-7e11-4a67-ade9-d2545b68c3a2",
   "metadata": {},
   "outputs": [],
   "source": [
    "# Filter template matching catalog\n",
    "# Only keep those with cc sums of > 3.2 or < -3.2\n",
    "keep_cat = obspy.core.event.catalog.Catalog()\n",
    "for ev in tm_cat:\n",
    "    s = ev.comments[2].text.split('=')[1]\n",
    "    if float(s) > 3.2 or float(s) < -3.2:\n",
    "        keep_cat.extend([ev])\n",
    "tm_cat = keep_cat"
   ]
  },
  {
   "cell_type": "code",
   "execution_count": null,
   "id": "581c9928-8cf0-49e4-85ad-950f7d38a754",
   "metadata": {},
   "outputs": [],
   "source": [
    "# Filter ML catalog\n",
    "# Only keep those with picks on at least 3 stations\n",
    "keep_cat = obspy.core.event.catalog.Catalog()\n",
    "for ev in ml_cat:\n",
    "    sta = [p.waveform_id.station_code for p in ev.picks]\n",
    "    if len(np.unique(sta)) >= 3:\n",
    "        keep_cat.extend([ev])\n",
    "ml_cat = keep_cat"
   ]
  },
  {
   "cell_type": "markdown",
   "id": "351a3be0-3eae-4d4b-8f46-c2f72cccb8d3",
   "metadata": {},
   "source": [
    "## Find picks common between the two of them"
   ]
  },
  {
   "cell_type": "code",
   "execution_count": 2,
   "id": "07412479-5092-4f2e-9cef-ca49307f557d",
   "metadata": {},
   "outputs": [],
   "source": [
    "def isolate_pick_times(cat,station,channel,phase):\n",
    "    \"\"\"\n",
    "    cat is Obspy catalog\n",
    "    station is station code, string\n",
    "    channel is channel code, string\n",
    "    \n",
    "    returns a list of the pick times on that station and channel in the catalog\n",
    "    and also the obspy catalog for the events those picks are from\n",
    "    \"\"\"\n",
    "    pick_list = []\n",
    "    ev_cat = obspy.core.event.catalog.Catalog()\n",
    "    for ev in cat:\n",
    "        if ev.picks[0].phase_hint != None:\n",
    "            picktime = [pick.time.datetime for pick in ev.picks if (pick.waveform_id.station_code==station) & (pick.phase_hint==phase)]\n",
    "        else:\n",
    "            picktime = [pick.time.datetime for pick in ev.picks if (pick.waveform_id.station_code==station) & (pick.waveform_id.channel_code==channel)]\n",
    "        \n",
    "        \n",
    "        if len(picktime) > 0:\n",
    "            pick_list.append(picktime[0])\n",
    "            ev_cat.append(ev)\n",
    "            \n",
    "    return(pick_list,ev_cat)\n",
    "\n",
    "class PickComparison:\n",
    "    def __init__(self):\n",
    "        self.station = ''\n",
    "        self.phase = ''\n",
    "        self.channel = ''\n",
    "        self.common = []\n",
    "        self.common_cat = []\n",
    "        self.common_timediff = []"
   ]
  },
  {
   "cell_type": "markdown",
   "id": "a70b532f-17d0-42bf-9b81-70416b5c2155",
   "metadata": {},
   "source": [
    "## Find common picks between the two sets of detections (threshold = 0.5 s)\n",
    "## Save the time difference between them (TM - ML)"
   ]
  },
  {
   "cell_type": "code",
   "execution_count": null,
   "id": "c3c9d498-57e1-485a-885a-a10c6b8ce467",
   "metadata": {},
   "outputs": [],
   "source": [
    "stations = ['KEMF','KEMF','KEMO','KEMO','NCHR','NCHR','ENWF','ENWF']\n",
    "channels = ['EHZ','EHE','EHZ','EHE','EHZ','EHE','HHZ','HHE']\n",
    "phases = ['P','S','P','S','P','S','P','S','P','S']\n",
    "    \n",
    "comparisons = []\n",
    "    \n",
    "for i in range(len(stations)):\n",
    "\n",
    "    comparison = PickComparison()\n",
    "    comparison.station = stations[i]\n",
    "    comparison.phase = phases[i]\n",
    "    comparison.channel = channels[i]\n",
    "\n",
    "    print(stations[i])\n",
    "    print(phases[i])\n",
    "    tm_times,scratch = isolate_pick_times(tm_cat,stations[i],channels[i],phases[i])\n",
    "    ml_times,scratch = isolate_pick_times(ml_cat,stations[i],channels[i],phases[i])\n",
    "\n",
    "\n",
    "    common = []\n",
    "    common_cat = obspy.core.event.catalog.Catalog()\n",
    "    common_timediff = []\n",
    "    for picktime in ml_times:\n",
    "        timediff = [abs(tm_picktime - picktime) for tm_picktime in tm_times]\n",
    "        mintime = min(timediff)\n",
    "        minind = np.argmin(timediff)\n",
    "        if mintime < datetime.timedelta(seconds=0.5):\n",
    "            common.append(picktime)\n",
    "            common_cat.append(tm_cat[minind])\n",
    "            common_timediff.append(tm_times[minind]-picktime)\n",
    "                 \n",
    "                \n",
    "    comparison.common = common\n",
    "    comparison.common_cat = common_cat\n",
    "    comparison.common_timediff = common_timediff\n",
    "\n",
    "    comparisons.append(comparison)"
   ]
  },
  {
   "cell_type": "markdown",
   "id": "570b13eb-b6d8-4447-beaf-128851eaef81",
   "metadata": {},
   "source": [
    "## Save to file"
   ]
  },
  {
   "cell_type": "code",
   "execution_count": null,
   "id": "90229b79-04b9-44d8-8237-f4de3ab5dafb",
   "metadata": {},
   "outputs": [],
   "source": [
    "import pickle\n",
    "with open('tm_ml_common_filtered.txt', 'wb') as f:\n",
    "    pickle.dump(comparisons,f) "
   ]
  }
 ],
 "metadata": {
  "kernelspec": {
   "display_name": "alaska-ml",
   "language": "python",
   "name": "alaska-ml"
  },
  "language_info": {
   "codemirror_mode": {
    "name": "ipython",
    "version": 3
   },
   "file_extension": ".py",
   "mimetype": "text/x-python",
   "name": "python",
   "nbconvert_exporter": "python",
   "pygments_lexer": "ipython3",
   "version": "3.9.12"
  }
 },
 "nbformat": 4,
 "nbformat_minor": 5
}
