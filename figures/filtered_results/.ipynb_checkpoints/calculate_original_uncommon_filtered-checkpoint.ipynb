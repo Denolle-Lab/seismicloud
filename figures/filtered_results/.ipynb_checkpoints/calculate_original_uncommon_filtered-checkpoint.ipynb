{
 "cells": [
  {
   "cell_type": "markdown",
   "id": "06c73bdc-e831-4d19-acb9-eb4eabccecc2",
   "metadata": {},
   "source": [
    "# Code to reproduce original_uncommon_filtered.txt file from original catalogs"
   ]
  },
  {
   "cell_type": "code",
   "execution_count": 1,
   "id": "008b3447-291e-4dce-90da-6b7ffd02b140",
   "metadata": {},
   "outputs": [],
   "source": [
    "import obspy\n",
    "import glob\n",
    "import matplotlib.pyplot as plt\n",
    "import numpy as np\n",
    "import datetime\n",
    "import matplotlib\n",
    "matplotlib.rcParams.update({'font.size': 18})\n",
    "matplotlib.rcParams['font.family'] = ['Arial']"
   ]
  },
  {
   "cell_type": "markdown",
   "id": "1054572b-c741-44bd-aebd-d64bac4604d3",
   "metadata": {},
   "source": [
    "## Read in all 3 catalogs"
   ]
  },
  {
   "cell_type": "code",
   "execution_count": null,
   "id": "10a56d36-131f-41df-a446-56232c5f355c",
   "metadata": {},
   "outputs": [],
   "source": [
    "og_cat = obspy.core.event.read_events('result_catalogs/endquakes_2017.xml')"
   ]
  },
  {
   "cell_type": "code",
   "execution_count": null,
   "id": "b5ccef3f-bc7b-4f69-8aae-79630a49d12e",
   "metadata": {},
   "outputs": [],
   "source": [
    "ml_cat = obspy.core.event.read_events('result_catalogs/ml_2017.xml',format='QUAKEML')"
   ]
  },
  {
   "cell_type": "code",
   "execution_count": null,
   "id": "83b295db-f527-444d-8763-2a67e2daeec1",
   "metadata": {},
   "outputs": [],
   "source": [
    "tm_cat = obspy.core.event.read_events('result_catalogs/tm_2017.xml',format='QUAKEML')"
   ]
  },
  {
   "cell_type": "markdown",
   "id": "310a2c17-a5c4-4f8a-b448-d5f98d1ddee8",
   "metadata": {},
   "source": [
    "## Filter catalogs"
   ]
  },
  {
   "cell_type": "code",
   "execution_count": null,
   "id": "304a230e-b8fa-4b3f-b08f-5f8db6d53ae5",
   "metadata": {},
   "outputs": [],
   "source": [
    "# Filter template matching catalog\n",
    "# Only keep those with cc sums of > 3.2 or < -3.2\n",
    "keep_cat = obspy.core.event.catalog.Catalog()\n",
    "for ev in tm_cat:\n",
    "    s = ev.comments[2].text.split('=')[1]\n",
    "    if float(s) > 3.2 or float(s) < -3.2:\n",
    "        keep_cat.extend([ev])\n",
    "tm_cat = keep_cat"
   ]
  },
  {
   "cell_type": "code",
   "execution_count": null,
   "id": "409ea9e2-411c-4791-a443-f699f5574f49",
   "metadata": {},
   "outputs": [],
   "source": [
    "# Filter ML catalog\n",
    "# Only keep those with picks on at least 3 stations\n",
    "keep_cat = obspy.core.event.catalog.Catalog()\n",
    "for ev in ml_cat:\n",
    "    sta = [p.waveform_id.station_code for p in ev.picks]\n",
    "    if len(np.unique(sta)) >= 3:\n",
    "        keep_cat.extend([ev])\n",
    "ml_cat = keep_cat"
   ]
  },
  {
   "cell_type": "markdown",
   "id": "e0a47f9a-a811-4fea-b925-b330ab6a0b0f",
   "metadata": {},
   "source": [
    "## Codes to compare them to each other and find common picks"
   ]
  },
  {
   "cell_type": "code",
   "execution_count": null,
   "id": "af2f4653-5547-449b-9fef-9d3c748d7af2",
   "metadata": {},
   "outputs": [],
   "source": [
    "def isolate_pick_times(cat,station,channel,phase):\n",
    "    \"\"\"\n",
    "    cat is Obspy catalog\n",
    "    station is station code, string\n",
    "    channel is channel code, string\n",
    "    \n",
    "    returns a list of the pick times on that station and channel in the catalog\n",
    "    and also the obspy catalog for the events those picks are from\n",
    "    \"\"\"\n",
    "    pick_list = []\n",
    "    ev_cat = obspy.core.event.catalog.Catalog()\n",
    "    for ev in cat:\n",
    "        if ev.picks[0].phase_hint != None:\n",
    "            picktime = [pick.time.datetime for pick in ev.picks if (pick.waveform_id.station_code==station) & (pick.phase_hint==phase)]\n",
    "        else:\n",
    "            picktime = [pick.time.datetime for pick in ev.picks if (pick.waveform_id.station_code==station) & (pick.waveform_id.channel_code==channel)]\n",
    "        \n",
    "        \n",
    "        if len(picktime) > 0:\n",
    "            pick_list.append(picktime[0])\n",
    "            ev_cat.append(ev)\n",
    "            \n",
    "    return(pick_list,ev_cat)\n",
    "\n",
    "class PickComparison:\n",
    "    def __init__(self):\n",
    "        self.station = ''\n",
    "        self.phase = ''\n",
    "        self.channel = ''\n",
    "        self.ml = []\n",
    "        self.tm = []\n",
    "        self.og = []\n",
    "        self.tm_correct_cat = []\n",
    "        self.ml_correct_cat = []\n",
    "        \n",
    "def compare_pick_times(og_cat,tm_cat,ml_cat):\n",
    "    \"\"\"\n",
    "    \"\"\"\n",
    "    stations = ['KEMF','KEMF','KEMO','KEMO','NCHR','NCHR','ENWF','ENWF']\n",
    "    channels = ['EHZ','EHE','EHZ','EHE','EHZ','EHE','HHZ','HHE']\n",
    "    phases = ['P','S','P','S','P','S','P','S','P','S']\n",
    "    \n",
    "    comparisons = []\n",
    "    \n",
    "    for i in range(len(stations)):\n",
    "        \n",
    "        comparison = PickComparison()\n",
    "        comparison.station = stations[i]\n",
    "        comparison.phase = phases[i]\n",
    "        comparison.channel = channels[i]\n",
    "        \n",
    "        print(stations[i])\n",
    "        print(phases[i])\n",
    "        og_times,ev_cat = isolate_pick_times(og_cat,stations[i],channels[i],phases[i])\n",
    "        tm_times,scratch = isolate_pick_times(tm_cat,stations[i],channels[i],phases[i])\n",
    "        ml_times,scratch = isolate_pick_times(ml_cat,stations[i],channels[i],phases[i])\n",
    "\n",
    "        \n",
    "        tm_correct = []\n",
    "        tm_correct_cat = obspy.core.event.catalog.Catalog()\n",
    "        for picktime in tm_times:\n",
    "            timediff = [abs(og_picktime - picktime) for og_picktime in og_times]\n",
    "            mintime = min(timediff)\n",
    "            minind = np.argmin(timediff)\n",
    "            if mintime > datetime.timedelta(seconds=0.5):\n",
    "                tm_correct.append(picktime)\n",
    "                tm_correct_cat.append(ev_cat[minind])\n",
    "                \n",
    "        ml_correct = []\n",
    "        ml_correct_cat = obspy.core.event.catalog.Catalog()\n",
    "        for picktime in ml_times:\n",
    "            timediff = [abs(og_picktime - picktime) for og_picktime in og_times]\n",
    "            mintime = min(timediff)\n",
    "            minind = np.argmin(timediff)\n",
    "            if mintime > datetime.timedelta(seconds=0.5):\n",
    "                ml_correct.append(picktime)\n",
    "                ml_correct_cat.append(ev_cat[minind])\n",
    "        \n",
    "                \n",
    "        comparison.tm = tm_correct        \n",
    "        comparison.ml = ml_correct\n",
    "        comparison.tm_cat = tm_correct_cat\n",
    "        comparison.ml_cat = ml_correct_cat\n",
    "        comparison.og = og_times\n",
    "        \n",
    "        comparisons.append(comparison)\n",
    "        \n",
    "    return(comparisons)"
   ]
  },
  {
   "cell_type": "code",
   "execution_count": null,
   "id": "a6ebc3e8-3417-4823-9c1c-f708dd02b90b",
   "metadata": {},
   "outputs": [],
   "source": [
    "comparisons = compare_pick_times(og_cat,tm_cat,ml_cat)"
   ]
  },
  {
   "cell_type": "markdown",
   "id": "21200fab-a88b-4628-8753-a0bf28273c3c",
   "metadata": {},
   "source": [
    "## Save to file"
   ]
  },
  {
   "cell_type": "code",
   "execution_count": null,
   "id": "e593dba4-a52a-4aea-b87c-33060b37d29b",
   "metadata": {},
   "outputs": [],
   "source": [
    "import pickle\n",
    "with open('original_uncommon_filtered.txt', 'wb') as f:\n",
    "    pickle.dump(comparisons,f) "
   ]
  }
 ],
 "metadata": {
  "kernelspec": {
   "display_name": "alaska-ml",
   "language": "python",
   "name": "alaska-ml"
  },
  "language_info": {
   "codemirror_mode": {
    "name": "ipython",
    "version": 3
   },
   "file_extension": ".py",
   "mimetype": "text/x-python",
   "name": "python",
   "nbconvert_exporter": "python",
   "pygments_lexer": "ipython3",
   "version": "3.9.12"
  }
 },
 "nbformat": 4,
 "nbformat_minor": 5
}
