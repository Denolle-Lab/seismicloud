{
 "cells": [
  {
   "cell_type": "markdown",
   "id": "f83c9f11-42af-4c73-9225-c149da197d35",
   "metadata": {},
   "source": [
    "# Code to reproduce original_common_filtered.txt file from original catalogs"
   ]
  },
  {
   "cell_type": "code",
   "execution_count": 1,
   "id": "8f8faa69-9328-4e94-ac2d-2d06201b680b",
   "metadata": {},
   "outputs": [],
   "source": [
    "import obspy\n",
    "import glob\n",
    "import matplotlib.pyplot as plt\n",
    "import numpy as np\n",
    "import datetime\n",
    "import matplotlib\n",
    "matplotlib.rcParams.update({'font.size': 18})\n",
    "matplotlib.rcParams['font.family'] = ['Arial']"
   ]
  },
  {
   "cell_type": "markdown",
   "id": "1bd66605-cdc8-42ad-805a-d22b88fef5c3",
   "metadata": {},
   "source": [
    "## Read in all 3 catalogs"
   ]
  },
  {
   "cell_type": "code",
   "execution_count": null,
   "id": "4204d365-54e5-483d-9aea-1dc482803ce2",
   "metadata": {},
   "outputs": [],
   "source": [
    "og_cat = obspy.core.event.read_events('result_catalogs/endquakes_2017.xml')"
   ]
  },
  {
   "cell_type": "code",
   "execution_count": null,
   "id": "8eb1c97a-421b-492f-aec2-266cf6aac42e",
   "metadata": {},
   "outputs": [],
   "source": [
    "ml_cat = obspy.core.event.read_events('result_catalogs/ml_2017.xml',format='QUAKEML')"
   ]
  },
  {
   "cell_type": "code",
   "execution_count": null,
   "id": "2a51a2cd-6c24-45d7-a17d-803ca9ea9864",
   "metadata": {},
   "outputs": [],
   "source": [
    "tm_cat = obspy.core.event.read_events('result_catalogs/tm_2017.xml',format='QUAKEML')"
   ]
  },
  {
   "cell_type": "markdown",
   "id": "1868f8ed-1758-407f-a128-c3b514bd9a76",
   "metadata": {},
   "source": [
    "## Filter catalogs"
   ]
  },
  {
   "cell_type": "code",
   "execution_count": null,
   "id": "a509d779-8d34-4670-8546-ddb2e1e4c00e",
   "metadata": {},
   "outputs": [],
   "source": [
    "# Filter template matching catalog\n",
    "# Only keep those with cc sums of > 3.2 or < -3.2\n",
    "keep_cat = obspy.core.event.catalog.Catalog()\n",
    "for ev in tm_cat:\n",
    "    s = ev.comments[2].text.split('=')[1]\n",
    "    if float(s) > 3.2 or float(s) < -3.2:\n",
    "        keep_cat.extend([ev])\n",
    "tm_cat = keep_cat"
   ]
  },
  {
   "cell_type": "code",
   "execution_count": null,
   "id": "e548359e-7df8-48b8-8bc9-6daf9f4700f2",
   "metadata": {},
   "outputs": [],
   "source": [
    "# Filter ML catalog\n",
    "# Only keep those with picks on at least 3 stations\n",
    "keep_cat = obspy.core.event.catalog.Catalog()\n",
    "for ev in ml_cat:\n",
    "    sta = [p.waveform_id.station_code for p in ev.picks]\n",
    "    if len(np.unique(sta)) >= 3:\n",
    "        keep_cat.extend([ev])\n",
    "ml_cat = keep_cat"
   ]
  },
  {
   "cell_type": "markdown",
   "id": "e82f073e-294c-4395-9987-4e3a9b8e0109",
   "metadata": {},
   "source": [
    "## Codes to compare them to each other and find common picks"
   ]
  },
  {
   "cell_type": "code",
   "execution_count": 2,
   "id": "72a8cc08-d5bc-4223-9658-8d2191258119",
   "metadata": {},
   "outputs": [],
   "source": [
    "def isolate_pick_times(cat,station,channel,phase):\n",
    "    \"\"\"\n",
    "    cat is Obspy catalog\n",
    "    station is station code, string\n",
    "    channel is channel code, string\n",
    "    \n",
    "    returns a list of the pick times on that station and channel in the catalog\n",
    "    and also the obspy catalog for the events those picks are from\n",
    "    \"\"\"\n",
    "    pick_list = []\n",
    "    ev_cat = obspy.core.event.catalog.Catalog()\n",
    "    for ev in cat:\n",
    "        if ev.picks[0].phase_hint != None:\n",
    "            picktime = [pick.time.datetime for pick in ev.picks if (pick.waveform_id.station_code==station) & (pick.phase_hint==phase)]\n",
    "        else:\n",
    "            picktime = [pick.time.datetime for pick in ev.picks if (pick.waveform_id.station_code==station) & (pick.waveform_id.channel_code==channel)]\n",
    "        \n",
    "        \n",
    "        if len(picktime) > 0:\n",
    "            pick_list.append(picktime[0])\n",
    "            ev_cat.append(ev)\n",
    "            \n",
    "    return(pick_list,ev_cat)\n",
    "\n",
    "class PickComparison:\n",
    "    def __init__(self):\n",
    "        self.station = ''\n",
    "        self.phase = ''\n",
    "        self.channel = ''\n",
    "        self.ml = []\n",
    "        self.tm = []\n",
    "        self.og = []\n",
    "        self.tm_correct_cat = []\n",
    "        self.ml_correct_cat = []\n",
    "        \n",
    "def compare_pick_times(og_cat,tm_cat,ml_cat):\n",
    "    \"\"\"\n",
    "    \"\"\"\n",
    "    stations = ['KEMF','KEMF','KEMO','KEMO','NCHR','NCHR','ENWF','ENWF']\n",
    "    channels = ['EHZ','EHE','EHZ','EHE','EHZ','EHE','HHZ','HHE']\n",
    "    phases = ['P','S','P','S','P','S','P','S','P','S']\n",
    "    \n",
    "    comparisons = []\n",
    "    \n",
    "    for i in range(len(stations)):\n",
    "        \n",
    "        comparison = PickComparison()\n",
    "        comparison.station = stations[i]\n",
    "        comparison.phase = phases[i]\n",
    "        comparison.channel = channels[i]\n",
    "        \n",
    "        print(stations[i])\n",
    "        print(phases[i])\n",
    "        og_times,ev_cat = isolate_pick_times(og_cat,stations[i],channels[i],phases[i])\n",
    "        tm_times,scratch = isolate_pick_times(tm_cat,stations[i],channels[i],phases[i])\n",
    "        ml_times,scratch = isolate_pick_times(ml_cat,stations[i],channels[i],phases[i])\n",
    "\n",
    "        \n",
    "        tm_correct = []\n",
    "        tm_correct_cat = obspy.core.event.catalog.Catalog()\n",
    "        for picktime in tm_times:\n",
    "            timediff = [abs(og_picktime - picktime) for og_picktime in og_times]\n",
    "            mintime = min(timediff)\n",
    "            minind = np.argmin(timediff)\n",
    "            if mintime < datetime.timedelta(seconds=0.5):\n",
    "                tm_correct.append(picktime)\n",
    "                tm_correct_cat.append(ev_cat[minind])\n",
    "                \n",
    "        ml_correct = []\n",
    "        ml_correct_cat = obspy.core.event.catalog.Catalog()\n",
    "        for picktime in ml_times:\n",
    "            timediff = [abs(og_picktime - picktime) for og_picktime in og_times]\n",
    "            mintime = min(timediff)\n",
    "            minind = np.argmin(timediff)\n",
    "            if mintime < datetime.timedelta(seconds=0.5):\n",
    "                ml_correct.append(picktime)\n",
    "                ml_correct_cat.append(ev_cat[minind])\n",
    "        \n",
    "                \n",
    "        comparison.tm = tm_correct        \n",
    "        comparison.ml = ml_correct\n",
    "        comparison.tm_cat = tm_correct_cat\n",
    "        comparison.ml_cat = ml_correct_cat\n",
    "        comparison.og = og_times\n",
    "        \n",
    "        comparisons.append(comparison)\n",
    "        \n",
    "    return(comparisons)"
   ]
  },
  {
   "cell_type": "markdown",
   "id": "650013d3-8ab4-4bcc-bcce-92416d771fdc",
   "metadata": {},
   "source": [
    "## Calculate comparisons- this takes a while if catalogs are large"
   ]
  },
  {
   "cell_type": "code",
   "execution_count": null,
   "id": "4de86359-33e9-44c1-b0b3-79983520ee3a",
   "metadata": {},
   "outputs": [],
   "source": [
    "comparisons = compare_pick_times(og_cat,tm_cat,ml_cat)"
   ]
  },
  {
   "cell_type": "markdown",
   "id": "c6aa5e3b-7fa9-43ce-8d6d-2f240de7de11",
   "metadata": {},
   "source": [
    "## Save to file"
   ]
  },
  {
   "cell_type": "code",
   "execution_count": null,
   "id": "593e2db5-dc84-4a46-9567-143366f619f5",
   "metadata": {},
   "outputs": [],
   "source": [
    "import pickle\n",
    "with open('original_common_filtered.txt', 'wb') as f:\n",
    "    pickle.dump(comparisons,f) "
   ]
  }
 ],
 "metadata": {
  "kernelspec": {
   "display_name": "alaska-ml",
   "language": "python",
   "name": "alaska-ml"
  },
  "language_info": {
   "codemirror_mode": {
    "name": "ipython",
    "version": 3
   },
   "file_extension": ".py",
   "mimetype": "text/x-python",
   "name": "python",
   "nbconvert_exporter": "python",
   "pygments_lexer": "ipython3",
   "version": "3.9.12"
  }
 },
 "nbformat": 4,
 "nbformat_minor": 5
}
