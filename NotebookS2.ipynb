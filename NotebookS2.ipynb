{
 "cells": [
  {
   "cell_type": "markdown",
   "metadata": {},
   "source": [
    "# Notebook S2\n",
    "\n",
    "This notebook takes you through the steps to running both the template matching and EQT branches on a local server."
   ]
  },
  {
   "cell_type": "code",
   "execution_count": 1,
   "metadata": {},
   "outputs": [],
   "source": [
    "import obspy\n",
    "import json\n",
    "import sys\n",
    "import os\n",
    "import pandas as pd"
   ]
  },
  {
   "cell_type": "markdown",
   "metadata": {},
   "source": [
    "### Create job list"
   ]
  },
  {
   "cell_type": "code",
   "execution_count": 8,
   "metadata": {},
   "outputs": [],
   "source": [
    "# Build the command to create the job list\n",
    "\n",
    "# Path to json config file:\n",
    "config_path = \"/Users/Zoe/seismicloud/configs/config_sample.json\"\n",
    "# Path to the python environment which has everything you need:\n",
    "interpreter_path = sys.executable\n",
    "# Path to the script that creates the job list:\n",
    "script_path = '/Users/Zoe/seismicloud/scripts/template_matching/create_joblist.py'\n",
    "# Number of CPUs you want to parallelize across:\n",
    "nproc = 10 \n",
    "\n",
    "command = ' '.join([interpreter_path,script_path,'--config',config_path,'--nproc',str(nproc)])"
   ]
  },
  {
   "cell_type": "code",
   "execution_count": null,
   "metadata": {},
   "outputs": [],
   "source": [
    "# Execute!\n",
    "\n",
    "os.system(command)"
   ]
  },
  {
   "cell_type": "code",
   "execution_count": 5,
   "metadata": {},
   "outputs": [],
   "source": [
    "# Let's read in and look at the joblist:\n",
    "job_path = '/Users/Zoe/seismicloud/jobs/NV_2017_templatematching_joblist.csv'\n",
    "df = pd.read_csv(job_path)\n",
    "df"
   ]
  },
  {
   "cell_type": "markdown",
   "metadata": {},
   "source": [
    "### With the job list created, we can now run the detection in parallel using MPI"
   ]
  },
  {
   "cell_type": "code",
   "execution_count": 11,
   "metadata": {},
   "outputs": [],
   "source": [
    "# Build the command\n",
    "\n",
    "network = 'NV'\n",
    "year = 2017\n",
    "\n",
    "script_path = '/Users/Zoe/seismicloud/scripts/template_matching/distributed_detection.py'\n",
    "\n",
    "command = ' '.join(['mpirun','-np',str(nproc),interpreter_path,script_path,'--config',config_path,'-n',network,'-y',str(year)])"
   ]
  },
  {
   "cell_type": "code",
   "execution_count": 12,
   "metadata": {},
   "outputs": [
    {
     "data": {
      "text/plain": [
       "'mpirun -np 10 /opt/anaconda3/envs/alaska-ml/bin/python /Users/Zoe/seismicloud/scripts/template_matching/distributed_detection.py --config /Users/Zoe/seismicloud/configs/config_sample.json -n NV -y 2017'"
      ]
     },
     "execution_count": 12,
     "metadata": {},
     "output_type": "execute_result"
    }
   ],
   "source": [
    "os.system(command)"
   ]
  },
  {
   "cell_type": "markdown",
   "metadata": {},
   "source": [
    "#### As the process is run, it writes its progress to logs in the /logs folder you specified. Here we can look at them:"
   ]
  },
  {
   "cell_type": "code",
   "execution_count": null,
   "metadata": {},
   "outputs": [],
   "source": []
  }
 ],
 "metadata": {
  "kernelspec": {
   "display_name": "alaska-ml",
   "language": "python",
   "name": "alaska-ml"
  },
  "language_info": {
   "codemirror_mode": {
    "name": "ipython",
    "version": 3
   },
   "file_extension": ".py",
   "mimetype": "text/x-python",
   "name": "python",
   "nbconvert_exporter": "python",
   "pygments_lexer": "ipython3",
   "version": "3.9.9"
  }
 },
 "nbformat": 4,
 "nbformat_minor": 4
}
