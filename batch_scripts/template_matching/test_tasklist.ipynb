{
 "cells": [
  {
   "cell_type": "code",
   "execution_count": 1,
   "id": "5070e3ca-b66e-4818-a568-040e57e34b36",
   "metadata": {},
   "outputs": [],
   "source": [
    "import azure.storage.blob as azureblob\n",
    "import azure.batch.batch_service_client as batch\n",
    "import azure.batch.batch_auth as batchauth\n",
    "import azure.batch.models as batchmodels\n",
    "import datetime"
   ]
  },
  {
   "cell_type": "markdown",
   "id": "7d638c9a-d112-4f70-8d23-753ee11831f5",
   "metadata": {},
   "source": [
    "## Connect Client to the blob storage account"
   ]
  },
  {
   "cell_type": "code",
   "execution_count": 2,
   "id": "a94aee59-0748-4d2a-a911-af9eb8c2c4f1",
   "metadata": {},
   "outputs": [],
   "source": [
    "_STORAGE_ACCOUNT_NAME = 'endeavourobsdata'\n",
    "_STORAGE_ACCOUNT_KEY = 'nfokNynUJ1CZFsUl1+6TLVJvNqz01F4++Jhvr4+gphSBG/B2Hz1MiVkPHoQAPJ8NclpYLLubhQ4d+AStVI0krw=='\n"
   ]
  },
  {
   "cell_type": "code",
   "execution_count": 3,
   "id": "749bc5b9-e28e-4e41-866a-e60107688d1a",
   "metadata": {},
   "outputs": [],
   "source": [
    "blob_client = azureblob.BlockBlobService(\n",
    "        account_name=_STORAGE_ACCOUNT_NAME,\n",
    "        account_key=_STORAGE_ACCOUNT_KEY)"
   ]
  },
  {
   "cell_type": "markdown",
   "id": "7b8d8b4f-bf48-4e93-9c48-7c77f946dbda",
   "metadata": {},
   "source": [
    "## Get SAS URL token to access the container within the blob storage account"
   ]
  },
  {
   "cell_type": "code",
   "execution_count": 4,
   "id": "f289afa6-56b7-41c0-a566-0ef596b5064d",
   "metadata": {},
   "outputs": [],
   "source": [
    "def get_container_sas_token(block_blob_client,\n",
    "                            container_name, blob_permissions):\n",
    "    \"\"\"\n",
    "    Obtains a shared access signature granting the specified permissions to the\n",
    "    container.\n",
    "    :param block_blob_client: A blob service client.\n",
    "    :type block_blob_client: `azure.storage.blob.BlockBlobService`\n",
    "    :param str container_name: The name of the Azure Blob storage container.\n",
    "    :param BlobPermissions blob_permissions:\n",
    "    :rtype: str\n",
    "    :return: A SAS token granting the specified permissions to the container.\n",
    "    \"\"\"\n",
    "    # Obtain the SAS token for the container, setting the expiry time and\n",
    "    # permissions. In this case, no start time is specified, so the shared\n",
    "    # access signature becomes valid immediately. Expiration is in 2 hours.\n",
    "    container_sas_token = \\\n",
    "        block_blob_client.generate_container_shared_access_signature(\n",
    "            container_name,\n",
    "            permission=blob_permissions,\n",
    "            expiry=datetime.datetime.utcnow() + datetime.timedelta(hours=2))\n",
    "\n",
    "    return container_sas_token\n",
    "\n",
    "def get_container_sas_url(block_blob_client,\n",
    "                          container_name, blob_permissions):\n",
    "    \"\"\"\n",
    "    Obtains a shared access signature URL that provides write access to the \n",
    "    ouput container to which the tasks will upload their output.\n",
    "    :param block_blob_client: A blob service client.\n",
    "    :type block_blob_client: `azure.storage.blob.BlockBlobService`\n",
    "    :param str container_name: The name of the Azure Blob storage container.\n",
    "    :param BlobPermissions blob_permissions:\n",
    "    :rtype: str\n",
    "    :return: A SAS URL granting the specified permissions to the container.\n",
    "    \"\"\"\n",
    "    # Obtain the SAS token for the container.\n",
    "    sas_token = get_container_sas_token(block_blob_client,\n",
    "                                        container_name, azureblob.BlobPermissions.WRITE)\n",
    "\n",
    "    # Construct SAS URL for the container\n",
    "    container_sas_url = \"https://{}.blob.core.windows.net/{}?{}\".format(\n",
    "        _STORAGE_ACCOUNT_NAME, container_name, sas_token)\n",
    "\n",
    "    return container_sas_url"
   ]
  },
  {
   "cell_type": "code",
   "execution_count": 5,
   "id": "2af1d04c-747d-484e-8738-fe53110e5abb",
   "metadata": {},
   "outputs": [],
   "source": [
    "output_container_name = 'endeavourobsdata'"
   ]
  },
  {
   "cell_type": "code",
   "execution_count": 6,
   "id": "0675c18f-dacd-4b8b-8735-41fb7ec98a55",
   "metadata": {},
   "outputs": [],
   "source": [
    "output_container_sas_url = get_container_sas_url(\n",
    "        blob_client,\n",
    "        output_container_name,\n",
    "        azureblob.BlobPermissions.WRITE)"
   ]
  },
  {
   "cell_type": "code",
   "execution_count": 7,
   "id": "f90006a8-3460-484f-a16a-6dfe7e08b488",
   "metadata": {},
   "outputs": [
    {
     "data": {
      "text/plain": [
       "'https://endeavourobsdata.blob.core.windows.net/endeavourobsdata?se=2022-11-04T18%3A01%3A57Z&sp=w&sv=2018-03-28&sr=c&sig=6ymyK0IjTU04E7wsKHbevqulpJVJ/45YHOEO03OoFLA%3D'"
      ]
     },
     "execution_count": 7,
     "metadata": {},
     "output_type": "execute_result"
    }
   ],
   "source": [
    "output_container_sas_url"
   ]
  },
  {
   "cell_type": "markdown",
   "id": "8b6a93b3-6ead-4a88-be32-f8a7a4a0f9dc",
   "metadata": {
    "tags": []
   },
   "source": [
    "## Connect Client to batch account"
   ]
  },
  {
   "cell_type": "code",
   "execution_count": 8,
   "id": "314d4ac4-262b-4abd-92cb-a553b92dac2a",
   "metadata": {},
   "outputs": [],
   "source": [
    "_BATCH_ACCOUNT_NAME = 'tmatch'\n",
    "_BATCH_ACCOUNT_KEY = 'KnCI2SAbalzTJPUe7qq5H0+19RjxH1mukN9fAhjSGawTpDg4M1FPUVvORTTR3fq+mizdhaCs2eSo+ABalZMZpQ=='\n",
    "_BATCH_ACCOUNT_URL = 'https://tmatch.westus2.batch.azure.com'"
   ]
  },
  {
   "cell_type": "code",
   "execution_count": 9,
   "id": "c2f88fd7-0178-45b4-9e25-080cd0933066",
   "metadata": {},
   "outputs": [],
   "source": [
    "# Create a Batch service client. We'll now be interacting with the Batch\n",
    "# service in addition to Storage\n",
    "credentials = batchauth.SharedKeyCredentials(_BATCH_ACCOUNT_NAME,\n",
    "                                             _BATCH_ACCOUNT_KEY)"
   ]
  },
  {
   "cell_type": "code",
   "execution_count": 10,
   "id": "3658af67-ed02-40aa-8870-03d5bd4742e5",
   "metadata": {},
   "outputs": [],
   "source": [
    "batch_client = batch.BatchServiceClient(\n",
    "        credentials,\n",
    "        batch_url=_BATCH_ACCOUNT_URL)"
   ]
  },
  {
   "cell_type": "markdown",
   "id": "e2a8488c-1d44-4a0c-9ab3-b620de24d05a",
   "metadata": {
    "tags": []
   },
   "source": [
    "## Create a pool\n",
    "\n",
    "Followed documentation here to add the container registry to the pool set-up:\n",
    "https://learn.microsoft.com/en-us/python/api/azure-batch/azure.batch.models.containerconfiguration?view=azure-python"
   ]
  },
  {
   "cell_type": "code",
   "execution_count": 22,
   "id": "da3969d0-5442-42f7-8529-9497c71c6bac",
   "metadata": {},
   "outputs": [],
   "source": [
    "_POOL_ID = 'test_pool'\n",
    "_POOL_START_TASK = '/bin/bash -c \"sudo apt -y install nfs-common && mkdir -p /tmp/data && sudo mount -o sec=sys,vers=3,nolock,proto=tcp endeavourobsdata.blob.core.windows.net:/endeavourobsdata/endeavourobsdata /tmp/data && sudo chmod -R 0755 /tmp/data\"'\n",
    "_POOL_VM_SIZE = 'Standard_D16s_v3'\n",
    "_DEDICATED_POOL_NODE_COUNT = 1\n",
    "_LOW_PRIORITY_POOL_NODE_COUNT = 0 \n",
    "_CONTAINER_REGISTRY_USERNAME = 'mldetect'\n",
    "_CONTAINER_REGISTRY_PASSWORD = 'TD3sQW7tyxq=MTh1OsH6WIVSKNY8uJrm'\n",
    "_CONTAINER_REGISTRY_SERVER = 'mldetect.azurecr.io'"
   ]
  },
  {
   "cell_type": "code",
   "execution_count": 12,
   "id": "e56568c0-5168-415b-a88d-6847295a5769",
   "metadata": {},
   "outputs": [],
   "source": [
    "# Tie to container registry\n",
    "container_registry = batchmodels.ContainerRegistry(\n",
    "    user_name = _CONTAINER_REGISTRY_USERNAME,\n",
    "    password = _CONTAINER_REGISTRY_PASSWORD,\n",
    "    registry_server = _CONTAINER_REGISTRY_SERVER)"
   ]
  },
  {
   "cell_type": "code",
   "execution_count": 23,
   "id": "07e217e3-582b-4aa2-827f-d863da070f3c",
   "metadata": {},
   "outputs": [],
   "source": [
    "def create_pool(batch_service_client, pool_id):\n",
    "    \"\"\"\n",
    "    Creates a pool of compute nodes with the specified OS settings.\n",
    "    :param batch_service_client: A Batch service client.\n",
    "    :type batch_service_client: `azure.batch.BatchServiceClient`\n",
    "    :param str pool_id: An ID for the new pool.\n",
    "    :param str publisher: Marketplace image publisher\n",
    "    :param str offer: Marketplace image offer\n",
    "    :param str sku: Marketplace image sky\n",
    "    \"\"\"\n",
    "    print('Creating pool [{}]...'.format(pool_id))\n",
    "\n",
    "    # Create a new pool of Linux compute nodes using an Azure Virtual Machines\n",
    "    # Marketplace image. For more information about creating pools of Linux\n",
    "    # nodes, see:\n",
    "    # https://azure.microsoft.com/documentation/articles/batch-linux-nodes/\n",
    "\n",
    "    # The start task mounts the blob storage container on each node, using\n",
    "    # an administrator user identity.\n",
    "\n",
    "    new_pool = batch.models.PoolAddParameter(\n",
    "        id=pool_id,\n",
    "        virtual_machine_configuration=batchmodels.VirtualMachineConfiguration(\n",
    "                    image_reference=batchmodels.ImageReference(\n",
    "                        publisher=\"microsoft-azure-batch\",\n",
    "                        offer=\"ubuntu-server-container\",\n",
    "                        sku=\"20-04-lts\",\n",
    "                        version=\"latest\"\n",
    "                    ),\n",
    "                    node_agent_sku_id=\"batch.node.ubuntu 20.04\",\n",
    "                    container_configuration=batchmodels.ContainerConfiguration(\n",
    "                        container_image_names=['mldetect.azurecr.io/denolle-lab/seismicloud:latest'],\n",
    "                        container_registries=[container_registry]\n",
    "                        ),\n",
    "                    ),\n",
    "        vm_size=_POOL_VM_SIZE,\n",
    "        target_dedicated_nodes=_DEDICATED_POOL_NODE_COUNT,\n",
    "        target_low_priority_nodes=_LOW_PRIORITY_POOL_NODE_COUNT,\n",
    "        start_task=batchmodels.StartTask(\n",
    "            command_line=_POOL_START_TASK,\n",
    "            wait_for_success=True,\n",
    "            user_identity=batchmodels.UserIdentity(\n",
    "                auto_user=batchmodels.AutoUserSpecification(\n",
    "                    scope=batchmodels.AutoUserScope.pool,\n",
    "                    elevation_level=batchmodels.ElevationLevel.admin)),\n",
    "        )\n",
    "    )\n",
    "\n",
    "    batch_service_client.pool.add(new_pool)"
   ]
  },
  {
   "cell_type": "code",
   "execution_count": 24,
   "id": "216cf59e-29a7-495d-943b-d1dee4dbb380",
   "metadata": {},
   "outputs": [
    {
     "name": "stdout",
     "output_type": "stream",
     "text": [
      "Creating pool [test_pool]...\n"
     ]
    }
   ],
   "source": [
    "create_pool(batch_client,_POOL_ID)"
   ]
  },
  {
   "cell_type": "markdown",
   "id": "d1a32ac9-fb54-4657-a207-8cda86cfbdd9",
   "metadata": {
    "tags": []
   },
   "source": [
    "## Create a job within a specified pool"
   ]
  },
  {
   "cell_type": "code",
   "execution_count": 25,
   "id": "0923be6a-a10c-4b4d-9576-f328a3d91a7d",
   "metadata": {},
   "outputs": [],
   "source": [
    "_JOB_ID = 'auto_test'\n",
    "_POOL_ID = _POOL_ID"
   ]
  },
  {
   "cell_type": "code",
   "execution_count": 26,
   "id": "edad0564-9c8c-49c1-9d7b-8a0f2d3fbe63",
   "metadata": {},
   "outputs": [],
   "source": [
    "def create_job(batch_service_client, job_id, pool_id):\n",
    "    \"\"\"\n",
    "    Creates a job with the specified ID, associated with the specified pool.\n",
    "    :param batch_service_client: A Batch service client.\n",
    "    :type batch_service_client: `azure.batch.BatchServiceClient`\n",
    "    :param str job_id: The ID for the job.\n",
    "    :param str pool_id: The ID for the pool.\n",
    "    \"\"\"\n",
    "    print('Creating job [{}]...'.format(job_id))\n",
    "\n",
    "    job = batch.models.JobAddParameter(\n",
    "        id=job_id,\n",
    "        pool_info=batch.models.PoolInformation(pool_id=pool_id))\n",
    "\n",
    "    batch_service_client.job.add(job)"
   ]
  },
  {
   "cell_type": "code",
   "execution_count": 28,
   "id": "20f66ba4-b7ca-4487-934c-27d66d1336b9",
   "metadata": {},
   "outputs": [
    {
     "name": "stdout",
     "output_type": "stream",
     "text": [
      "Creating job [auto_test]...\n"
     ]
    }
   ],
   "source": [
    "# Create the job that will run the tasks.\n",
    "create_job(batch_client, _JOB_ID, _POOL_ID)"
   ]
  },
  {
   "cell_type": "markdown",
   "id": "c02373fc-d7e0-40e3-8d61-94ea05262226",
   "metadata": {},
   "source": [
    "## Create tasks within job"
   ]
  },
  {
   "cell_type": "code",
   "execution_count": null,
   "id": "6f7551eb-c757-404a-92b9-9645607b336c",
   "metadata": {},
   "outputs": [],
   "source": [
    "def add_tasks(batch_service_client, job_id, input_files, output_container_sas_url):\n",
    "    \"\"\"\n",
    "    Adds a task for each input file in the collection to the specified job.\n",
    "    :param batch_service_client: A Batch service client.\n",
    "    :type batch_service_client: `azure.batch.BatchServiceClient`\n",
    "    :param str job_id: The ID of the job to which to add the tasks.\n",
    "    :param list input_files: A collection of input files. One task will be\n",
    "     created for each input file.\n",
    "    :param output_container_sas_token: A SAS token granting write access to\n",
    "    the specified Azure Blob storage container.\n",
    "    \"\"\"\n",
    "\n",
    "    print('Adding {} tasks to job [{}]...'.format(len(input_files), job_id))\n",
    "\n",
    "    tasks = list()\n",
    "\n",
    "    for idx, in range(len(n_nodes)):\n",
    "        command = '/bin/bash -c \"python /tmp/scripts/template_matching/create_joblist.py --config /tmp/data/data/outputs/config_zoe_azure_batch.json && mpirun -np {} python /tmp/scripts/template_matching/distributed_detection.py -c /tmp/data/data/outputs/config_zoe_azure_batch.json -n NV -y 2017 -r {}\"\n",
    "        tasks.append(batch.models.TaskAddParameter(\n",
    "            id='Task{}'.format(idx),\n",
    "            command_line=command,\n",
    "            resource_files=[input_file],\n",
    "            output_files=[batchmodels.OutputFile(\n",
    "                file_pattern=output_file_path,\n",
    "                destination=batchmodels.OutputFileDestination(\n",
    "                          container=batchmodels.OutputFileBlobContainerDestination(\n",
    "                              container_url=output_container_sas_url)),\n",
    "                upload_options=batchmodels.OutputFileUploadOptions(\n",
    "                    upload_condition=batchmodels.OutputFileUploadCondition.task_success))]\n",
    "        )\n",
    "        )\n",
    "    batch_service_client.task.add_collection(job_id, tasks)"
   ]
  },
  {
   "cell_type": "code",
   "execution_count": 30,
   "id": "dbfd2bd4-2f6e-46a6-94b8-c721ed029414",
   "metadata": {},
   "outputs": [],
   "source": [
    "\n",
    "# Define number of nodes\n",
    "n_nodes = _DEDICATED_POOL_NODE_COUNT\n",
    "# Define number of CPUs per node\n",
    "n_cpus = 16"
   ]
  },
  {
   "cell_type": "code",
   "execution_count": 31,
   "id": "e53d9cbe-04ee-479f-b458-e3192408f3f5",
   "metadata": {},
   "outputs": [],
   "source": [
    "idx = 0\n",
    "command = '/bin/bash -c \"python /tmp/batch_scripts/template_matching/create_joblist.py --config /tmp/configs/config_zoe_azure_batch.json && mpirun -np {} python /tmp/batch_scripts/template_matching/detection.py -c /tmp/configs/config_zoe_azure_batch.json -n NV -y 2017 -r {}\"'.format(n_cpus,idx)\n",
    "\n",
    "\n"
   ]
  },
  {
   "cell_type": "code",
   "execution_count": null,
   "id": "f2bfa71a-3715-4e7e-8c3c-2d265e34cbba",
   "metadata": {},
   "outputs": [],
   "source": [
    "os.system(\n",
    "        f\"{config['workflow']['interpreter']} /tmp/scripts/template_matching/detection.py\"\n",
    "        + f\" -n {network} -d {day} -y {year} -r {rank} -v {verbose} -c {fconfig} --pid {pid} \"\n",
    "    "
   ]
  },
  {
   "cell_type": "code",
   "execution_count": 32,
   "id": "7d56b3ed-4b73-404a-a31f-e687c0d0a098",
   "metadata": {},
   "outputs": [
    {
     "data": {
      "text/plain": [
       "'/bin/bash -c \"python /tmp/scripts/template_matching/create_joblist.py --config /tmp/data/data/outputs/config_zoe_azure_batch.json &&mpirun -np 16 python /tmp/scripts/template_matching/distributed_detection.py -c /tmp/data/data/outputs/config_zoe_azure_batch.json -n NV -y 2017 -r 0\"'"
      ]
     },
     "execution_count": 32,
     "metadata": {},
     "output_type": "execute_result"
    }
   ],
   "source": [
    "command"
   ]
  },
  {
   "cell_type": "code",
   "execution_count": null,
   "id": "047d837c-ed35-4391-aaf7-96ca4dbc9072",
   "metadata": {},
   "outputs": [],
   "source": [
    "# Add the tasks to the job. Pass the input files and a SAS URL\n",
    "# to the storage container for output files.\n",
    "add_tasks(batch_client, config._JOB_ID,\n",
    "          input_files, output_container_sas_url)"
   ]
  },
  {
   "cell_type": "code",
   "execution_count": null,
   "id": "267ae2b2-cfb6-460d-aa00-acfba2edd2e0",
   "metadata": {},
   "outputs": [],
   "source": []
  },
  {
   "cell_type": "code",
   "execution_count": null,
   "id": "79fad694-5fab-424b-8b4d-43efcd240d4e",
   "metadata": {},
   "outputs": [],
   "source": []
  },
  {
   "cell_type": "markdown",
   "id": "8eaf0cb0-129b-4126-a207-df3a7ee29634",
   "metadata": {},
   "source": [
    "## Clean up"
   ]
  },
  {
   "cell_type": "code",
   "execution_count": null,
   "id": "325b33e1-aafc-49f9-82bd-9a983a60ccb5",
   "metadata": {},
   "outputs": [],
   "source": [
    "# Delete pool\n",
    "batch_client.pool.delete(_POOL_ID)"
   ]
  },
  {
   "cell_type": "code",
   "execution_count": null,
   "id": "81595554-500b-4272-a9b1-0a3945499811",
   "metadata": {},
   "outputs": [],
   "source": [
    "# Delete job\n",
    "batch_client.job.delete(_JOB_ID)"
   ]
  }
 ],
 "metadata": {
  "kernelspec": {
   "display_name": "alaska-ml",
   "language": "python",
   "name": "alaska-ml"
  },
  "language_info": {
   "codemirror_mode": {
    "name": "ipython",
    "version": 3
   },
   "file_extension": ".py",
   "mimetype": "text/x-python",
   "name": "python",
   "nbconvert_exporter": "python",
   "pygments_lexer": "ipython3",
   "version": "3.9.10"
  }
 },
 "nbformat": 4,
 "nbformat_minor": 5
}
