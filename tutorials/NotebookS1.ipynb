{
 "cells": [
  {
   "cell_type": "markdown",
   "metadata": {},
   "source": [
    "# Notebook S1\n",
    "\n",
    "This notebook takes you through the steps to get the local workflow set up.\n",
    "\n",
    "We start by specifying all parameters- you only need to change the ones you plan to use.\n",
    "\n",
    "We then use these specified parameters to write the config file in JSON format. \n",
    "\n",
    "We then download waveforms into miniseed files using the download_mseeds script and the config file we just created.\n",
    "\n",
    "We can also then create templates for template matching using a starting catalog in QuakeML format and the config file we created."
   ]
  },
  {
   "cell_type": "code",
   "execution_count": 2,
   "metadata": {},
   "outputs": [],
   "source": [
    "import obspy\n",
    "from obspy.clients.fdsn.client import Client\n",
    "import json\n",
    "import sys\n",
    "import os\n",
    "import pandas as pd"
   ]
  },
  {
   "cell_type": "markdown",
   "metadata": {},
   "source": [
    "## Specify station information"
   ]
  },
  {
   "cell_type": "code",
   "execution_count": 3,
   "metadata": {},
   "outputs": [],
   "source": [
    "network = 'NV' \n",
    "station = '*'\n",
    "channels = 'HN*,EH*,HH*'\n",
    "\n",
    "starttime = obspy.UTCDateTime(2017,1,1)\n",
    "endtime = obspy.UTCDateTime(2020,1,1)\n",
    "\n",
    "minlat = 47.5\n",
    "maxlat = 48.5\n",
    "minlon = -129.15\n",
    "maxlon = -129.05 \n",
    "\n",
    "client = Client('IRIS')\n",
    "\n",
    "sta_data = client.get_stations(starttime=starttime,endtime=endtime,network=network,\n",
    "                         station=station,minlatitude=minlat,minlongitude=minlon,\n",
    "                         maxlatitude=maxlat,maxlongitude=maxlon,channel=channels)\n"
   ]
  },
  {
   "cell_type": "code",
   "execution_count": 4,
   "metadata": {},
   "outputs": [],
   "source": [
    "# Then make csv for association, and stations list for other tasks\n",
    "\n",
    "station_csv_path = '/Users/Zoe/seismicloud/data/stations.csv'\n",
    "\n",
    "network = []\n",
    "stations = []\n",
    "locations = []\n",
    "sta_lats = []\n",
    "sta_lons = []\n",
    "sta_elev = []\n",
    "for net in sta_data:\n",
    "    for sta in net:\n",
    "        network.append(net.code)\n",
    "        stations.append(sta.code)\n",
    "        locations.append('')\n",
    "        sta_lats.append(sta.latitude)\n",
    "        sta_lons.append(sta.longitude)\n",
    "        sta_elev.append(sta.elevation)\n",
    "station_dict = {'network':network,'station':stations,'location':locations,'latitude':sta_lats,'longitude':sta_lons,'elevation':sta_elev}\n",
    "station_df = pd.DataFrame.from_dict(station_dict)\n",
    "station_df.to_csv(station_csv_path)"
   ]
  },
  {
   "cell_type": "markdown",
   "metadata": {},
   "source": [
    "## Make JSON config file"
   ]
  },
  {
   "cell_type": "markdown",
   "metadata": {},
   "source": [
    "#### Below specify path names, network and station information."
   ]
  },
  {
   "cell_type": "code",
   "execution_count": 5,
   "metadata": {},
   "outputs": [],
   "source": [
    "# Path to your python environment:\n",
    "interpreter = \"/home/zkrauss/mambaforge/envs/alaska-ml/bin/python\"\n",
    "interpreter = '/Users/zoekrauss/anaconda3/envs/alaska-ml/bin/python'\n",
    "# Path to where waveform data in mseed format will be/is stored:\n",
    "mseed_path = \"/Users/zoekrauss/seismicloud/waveforms/\" \n",
    "# Path to where eqcorrscan templates in .tgz will be/are stored:\n",
    "templates_path = \"data/templates/test_templates.tgz\"\n",
    "# Path to output eqcorrscan detections:\n",
    "detections_path = \"data/detections/\"\n",
    "# Path to output EQTransformer picks:\n",
    "picks_path = \"data/picks/\"\n",
    "# Path to folder that stores job lists:\n",
    "jobs_path = \"jobs/\"\n",
    "# Path to the starting catalog in QuakeML format that can be used to create eqcorrscan templates:\n",
    "starting_cat_path = \"data/catalogs/endquakes_2017.xml\"\n",
    "\n",
    "        \n",
    "workflow = {'interpreter':interpreter,'mseed_path':mseed_path,'templates_path':templates_path,'detections_path':detections_path,\n",
    "               'jobs_path':jobs_path,'picks_path':picks_path,'starting_cat_path':starting_cat_path,\n",
    "               'stations':stations,'network':network}\n",
    "        "
   ]
  },
  {
   "cell_type": "markdown",
   "metadata": {},
   "source": [
    "#### Below specify path to logs."
   ]
  },
  {
   "cell_type": "code",
   "execution_count": 6,
   "metadata": {},
   "outputs": [],
   "source": [
    "verbose = 0\n",
    "# Whether to just append to preexisting logs or write over them:\n",
    "appendlog = False\n",
    "# Path to where logs should be output:\n",
    "logs_path = 'logs/'\n",
    "\n",
    "log = {'verbose':verbose,'appendlog':appendlog,'logs_path':logs_path}"
   ]
  },
  {
   "cell_type": "markdown",
   "metadata": {},
   "source": [
    "#### Specify the below for use with the download_mseeds.py script"
   ]
  },
  {
   "cell_type": "code",
   "execution_count": 7,
   "metadata": {},
   "outputs": [],
   "source": [
    "# Path to where you want the mseeds to be stored:\n",
    "# (redundant with the workflow dictionary, but allows new downloads)\n",
    "mseed_path = \"/Users/Zoe/seismicloud/waveforms/\" \n",
    "mseed_path = '/Users/zoekrauss/seismicloud/waveforms/'\n",
    "\n",
    "# Below also redundant with the workflow dictionary, but specify again more specifically here\n",
    "# with channel names:\n",
    "stations = [\"KEMF\",\"NCHR\",\"ENWF\",\"KEMO\"]\n",
    "network = \"NV\"\n",
    "channels = \"EH*,HH*\"\n",
    "\n",
    "# Beginning and end timestamps for when you want to download data for:\n",
    "# (keep them in this string format!)\n",
    "t1 = \"2017,6,1,0,0,0\"\n",
    "t2 = \"2017,6,3,0,0,0\"\n",
    "\n",
    "# Whether or not you want to resample all data after the download and before writing it,\n",
    "# and what sampling rate to resample to if so:\n",
    "resamp = \"True\"\n",
    "samp_rate = 200\n",
    "\n",
    "mseed_download = {'mseed_path':mseed_path,'stations':stations,'network':network,\n",
    "                  'channels':channels,'t1':t1,'t2':t2,\n",
    "                 'resamp':resamp,'samp_rate':samp_rate}"
   ]
  },
  {
   "cell_type": "markdown",
   "metadata": {},
   "source": [
    "#### Specify below for template matching, template parameters"
   ]
  },
  {
   "cell_type": "code",
   "execution_count": 8,
   "metadata": {},
   "outputs": [],
   "source": [
    "# Parameters of the templates themselves\n",
    "# Following EQCorrscan documentation\n",
    "lowcut = 8.0   # lowpass frequency\n",
    "highcut = 35.0 # highpass frequency\n",
    "filt_order = 4\n",
    "data_pad = 20.0\n",
    "samp_rate = 200.0\n",
    "length = 0.5\n",
    "prepick = 0.05\n",
    "process_len = 86400\n",
    "min_snr = 0.1\n",
    "swin = 'all'\n",
    "\n",
    "templates = {'lowcut':lowcut,'highcut':highcut,'filt_order':filt_order,\n",
    "            'data_pad':data_pad,'samp_rate':samp_rate,'length':length,\n",
    "            'prepick':prepick,'process_len':process_len,'min_snr':min_snr,\n",
    "            'swin':swin}\n",
    "\n",
    "# Filters for the starting catalog, if using the catalog to create templates\n",
    "min_lat = 47.9\n",
    "max_lat = 48.05\n",
    "min_lon = -129.15\n",
    "max_lon = -129.05\n",
    "min_time = \"2017,6,1,0,0,0\"\n",
    "max_time = \"2017,6,3,0,0,0\"\n",
    "min_magnitude = 0.5\n",
    "max_magnitude = \"NaN\"\n",
    "\n",
    "starting_catalog = {'min_lat':min_lat,'max_lat':max_lat,'min_lon':min_lon,\n",
    "                   'max_lon':max_lon,'min_time':min_time,'max_time':max_time,\n",
    "                   'min_magnitude':min_magnitude,'max_magnitude':max_magnitude}\n",
    "\n",
    "# Thresholds of template matching, following EQCorrscan\n",
    "threshold = 8\n",
    "threshold_type = 'MAD'\n",
    "trig_int = 1\n",
    "\n",
    "template_matching = {'threshold':threshold,'threshold_type':threshold_type,\n",
    "                    'trig_int':trig_int}"
   ]
  },
  {
   "cell_type": "markdown",
   "metadata": {},
   "source": [
    "#### Specify below for use of the ML branch with SeisBench"
   ]
  },
  {
   "cell_type": "code",
   "execution_count": 9,
   "metadata": {},
   "outputs": [],
   "source": [
    "# Picking parameters\n",
    "\n",
    "hourly_detection = False\n",
    "pretrained = \"original\"\n",
    "max_gap = 20\n",
    "\n",
    "# Default arguments\n",
    "overlap = 5000\n",
    "blinding = [1000,1000]\n",
    "default_args = {'overlap':overlap,'blinding':blinding}\n",
    "\n",
    "# Detection arguments\n",
    "P_threshold = 0.1\n",
    "S_threshold = 0.1\n",
    "detection_args = {'P_threshold':P_threshold,'S_threshold':S_threshold}\n",
    "\n",
    "picking = {'hourly_detection':hourly_detection,'pretrained':pretrained,'max_gap':max_gap,\n",
    "        'default_args':default_args,'detection_args':detection_args}"
   ]
  },
  {
   "cell_type": "code",
   "execution_count": 10,
   "metadata": {},
   "outputs": [],
   "source": [
    "# Association parameters\n",
    "\n",
    "stations = \"/Users/Zoe/seismicloud/data/stations.csv\"\n",
    "stations = '/Users/zoekrauss/seismicloud/data/stations.csv'\n",
    "\n",
    "# Path to directory you want the output catalog to be written\n",
    "catalog_path = '/Users/Zoe/seismicloud/data/catalogs/'\n",
    "dims = [\"x(km)\", \"y(km)\", \"z(km)\"]\n",
    "use_dbscan = False\n",
    "use_amplitude = False\n",
    "x_km = [-3800, -3600]\n",
    "y_km = [17200, 17400]\n",
    "z_km = [-20, 20]\n",
    "center = [-129, 47.5]\n",
    "vel = {'p':7.0,'s':4.0}\n",
    "method = 'BGMM'\n",
    "oversample_factor = 5\n",
    "min_picks_per_eq = 1\n",
    "max_sigma11 = 2.0\n",
    "max_sigma22 = 1.0\n",
    "max_sigma12 = 1.0\n",
    "\n",
    "association = {'stations':stations,'catalog_path':catalog_path,'dims':dims,'use_dbscan':use_dbscan,'use_amplitude':use_amplitude,\n",
    "              'x(km)':x_km,'y(km)':y_km,'z(km)':z_km,'center':center,'vel':vel,\n",
    "              'method':method,'oversample_factor':oversample_factor,\n",
    "              'min_picks_per_eq':min_picks_per_eq,'max_sigma11':max_sigma11,\n",
    "              'max_sigma22':max_sigma22,'max_sigma12':max_sigma12}"
   ]
  },
  {
   "cell_type": "code",
   "execution_count": 11,
   "metadata": {},
   "outputs": [],
   "source": [
    "model = {'picking':picking,'association':association}"
   ]
  },
  {
   "cell_type": "markdown",
   "metadata": {},
   "source": [
    "#### Combine all sets of parameters into a large dictionary"
   ]
  },
  {
   "cell_type": "code",
   "execution_count": 13,
   "metadata": {},
   "outputs": [],
   "source": [
    "sum_dict = {'workflow':workflow,'log':log,'mseed_download':mseed_download,\n",
    "            'templates':templates,'starting_catalog':starting_catalog,\n",
    "           'template_matching':template_matching,\n",
    "           'model':model}"
   ]
  },
  {
   "cell_type": "markdown",
   "metadata": {},
   "source": [
    "## Write to a JSON file"
   ]
  },
  {
   "cell_type": "code",
   "execution_count": 16,
   "metadata": {},
   "outputs": [],
   "source": [
    "config_path = \"/Users/zoekrauss/seismicloud/configs/config_sample.json\""
   ]
  },
  {
   "cell_type": "code",
   "execution_count": 17,
   "metadata": {},
   "outputs": [],
   "source": [
    "# Serializing json\n",
    "json_object = json.dumps(sum_dict, indent=4)\n",
    " \n",
    "# Writing to sample.json\n",
    "with open(config_path, \"w\") as outfile:\n",
    "    outfile.write(json_object)"
   ]
  },
  {
   "cell_type": "markdown",
   "metadata": {},
   "source": [
    "## Download mseeds\n",
    "We can do so using the download_mseeds script, which takes the config json file that we just created as an input argument.\n",
    "So, where the mseeds will be written to, which stations and networks they will be for, and whether or not they will be resampled must be defined in the config file."
   ]
  },
  {
   "cell_type": "code",
   "execution_count": 11,
   "metadata": {},
   "outputs": [],
   "source": [
    "interpreter_path = sys.executable\n",
    "script_path = '/Users/zoekrauss/seismicloud/scripts/download_mseeds.py'\n",
    "command = ' '.join([interpreter_path,script_path,'--config',config_path])"
   ]
  },
  {
   "cell_type": "code",
   "execution_count": 12,
   "metadata": {},
   "outputs": [
    {
     "data": {
      "text/plain": [
       "'/opt/anaconda3/envs/alaska-ml/bin/python /Users/zoekrauss/seismicloud/scripts/download_mseeds.py --config /Users/zoekrauss/seismicloud/configs/config_sample.json'"
      ]
     },
     "execution_count": 12,
     "metadata": {},
     "output_type": "execute_result"
    }
   ],
   "source": [
    "command"
   ]
  },
  {
   "cell_type": "code",
   "execution_count": 20,
   "metadata": {},
   "outputs": [
    {
     "name": "stderr",
     "output_type": "stream",
     "text": [
      "/Users/zoekrauss/anaconda3/envs/alaska-ml/lib/python3.9/site-packages/obspy/io/mseed/core.py:770: UserWarning: The encoding specified in trace.stats.mseed.encoding does not match the dtype of the data.\n",
      "A suitable encoding will be chosen.\n",
      "  warnings.warn(msg, UserWarning)\n"
     ]
    },
    {
     "name": "stdout",
     "output_type": "stream",
     "text": [
      "2017-06-01T00:00:00.000000Z\n",
      "Written!\n",
      "Written!\n",
      "Written!\n",
      "Written!\n",
      "2017-06-02T00:00:00.000000Z\n",
      "Written!\n",
      "Written!\n",
      "Written!\n",
      "Written!\n"
     ]
    },
    {
     "data": {
      "text/plain": [
       "0"
      ]
     },
     "execution_count": 20,
     "metadata": {},
     "output_type": "execute_result"
    }
   ],
   "source": [
    "# You can run the script with input arguments here, or copy and paste the command into a terminal\n",
    "os.system(command)"
   ]
  },
  {
   "cell_type": "markdown",
   "metadata": {},
   "source": [
    "## Make templates"
   ]
  },
  {
   "cell_type": "code",
   "execution_count": 13,
   "metadata": {},
   "outputs": [],
   "source": [
    "script_path = '/Users/Zoe/seismicloud/scripts/template_matching/make_templates.py'\n",
    "command = ' '.join([interpreter_path,script_path,'--config',config_path])"
   ]
  },
  {
   "cell_type": "code",
   "execution_count": 14,
   "metadata": {},
   "outputs": [
    {
     "data": {
      "text/plain": [
       "'/opt/anaconda3/envs/alaska-ml/bin/python /Users/Zoe/seismicloud/scripts/template_matching/make_templates.py --config /Users/zoekrauss/seismicloud/configs/config_sample.json'"
      ]
     },
     "execution_count": 14,
     "metadata": {},
     "output_type": "execute_result"
    }
   ],
   "source": [
    "command"
   ]
  },
  {
   "cell_type": "code",
   "execution_count": null,
   "metadata": {},
   "outputs": [],
   "source": [
    "os.system(command)"
   ]
  },
  {
   "cell_type": "code",
   "execution_count": 20,
   "metadata": {},
   "outputs": [],
   "source": [
    "# You can look at the created templates as follows:\n",
    "from eqcorrscan.core.match_filter.tribe import Tribe\n",
    "templates = Tribe().read(templates_path)"
   ]
  },
  {
   "cell_type": "code",
   "execution_count": 21,
   "metadata": {},
   "outputs": [
    {
     "data": {
      "text/plain": [
       "Tribe of 77 templates"
      ]
     },
     "execution_count": 21,
     "metadata": {},
     "output_type": "execute_result"
    }
   ],
   "source": [
    "# See how many templates were created:\n",
    "templates"
   ]
  },
  {
   "cell_type": "code",
   "execution_count": 22,
   "metadata": {},
   "outputs": [
    {
     "data": {
      "text/plain": [
       "Template 515146: \n",
       "\t 6 channels;\n",
       "\t lowcut: 8.0 Hz;\n",
       "\t highcut: 35.0 Hz;\n",
       "\t sampling rate 200.0 Hz;\n",
       "\t filter order: 4; \n",
       "\t process length: 86400.0 s"
      ]
     },
     "execution_count": 22,
     "metadata": {},
     "output_type": "execute_result"
    }
   ],
   "source": [
    "# You can look at each template by indexing through the object:\n",
    "templates[0]"
   ]
  },
  {
   "cell_type": "code",
   "execution_count": 26,
   "metadata": {},
   "outputs": [
    {
     "data": {
      "text/plain": [
       "Event:\t2017-06-01T20:05:38.782000Z | +48.028, -129.070 | 1.2387 Mw\n",
       "\n",
       "\t resource_id: ResourceIdentifier(id=\"quakeml:/Event/NV/515146\")\n",
       "\t  event_type: 'earthquake'\n",
       "\t        ---------\n",
       "\t    comments: 1 Elements\n",
       "\t       picks: 6 Elements\n",
       "\t     origins: 1 Elements\n",
       "\t  magnitudes: 1 Elements"
      ]
     },
     "execution_count": 26,
     "metadata": {},
     "output_type": "execute_result"
    }
   ],
   "source": [
    "# You can see which original event from the starting catalog each template is built from by accessing \n",
    "# its event attribute:\n",
    "templates[0].event"
   ]
  },
  {
   "cell_type": "code",
   "execution_count": 25,
   "metadata": {},
   "outputs": [
    {
     "data": {
      "image/png": "[encoded data removed]",
      "text/plain": [
       "<Figure size 800x1500 with 6 Axes>"
      ]
     },
     "metadata": {
      "needs_background": "light"
     },
     "output_type": "display_data"
    }
   ],
   "source": [
    "# You can plot the template by accessing its stream attribute:\n",
    "templates[0].st.plot();"
   ]
  }
 ],
 "metadata": {
  "kernelspec": {
   "display_name": "alaska-ml",
   "language": "python",
   "name": "alaska-ml"
  },
  "language_info": {
   "codemirror_mode": {
    "name": "ipython",
    "version": 3
   },
   "file_extension": ".py",
   "mimetype": "text/x-python",
   "name": "python",
   "nbconvert_exporter": "python",
   "pygments_lexer": "ipython3",
   "version": "3.9.9"
  }
 },
 "nbformat": 4,
 "nbformat_minor": 4
}
