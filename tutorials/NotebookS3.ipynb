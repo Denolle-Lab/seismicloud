{
 "cells": [
  {
   "cell_type": "markdown",
   "id": "a1e26e21-a32c-40fa-a7e6-e3e6fe5dffc2",
   "metadata": {},
   "source": [
    "# Notebook S3"
   ]
  },
  {
   "cell_type": "markdown",
   "id": "1ff57a21-747c-44b6-a8de-f766a8c4abef",
   "metadata": {},
   "source": [
    "This notebook takes you through the steps to outprocess detections (from template matching) or picks (from EQT) into QuakeML catalogs after the processing in Notebook S2 is complete."
   ]
  },
  {
   "cell_type": "code",
   "execution_count": 18,
   "id": "d237bf78-ae78-4147-b0f5-0c5dce125b22",
   "metadata": {},
   "outputs": [],
   "source": [
    "import sys\n",
    "import os\n",
    "import obspy"
   ]
  },
  {
   "cell_type": "markdown",
   "id": "145e4d2b-3ebf-45a5-9ebc-b24198e9056b",
   "metadata": {},
   "source": [
    "## Processing results from Template Matching"
   ]
  },
  {
   "cell_type": "markdown",
   "id": "29ccccc7-7bfc-4987-8a03-7b21b521d6cb",
   "metadata": {},
   "source": [
    "#### If we want to combine all of the days into one and remove duplicates between templates, we can do the following:"
   ]
  },
  {
   "cell_type": "code",
   "execution_count": 14,
   "id": "1c984d82-f6a3-4b19-8f73-f5627b5b9f11",
   "metadata": {},
   "outputs": [],
   "source": [
    "# Output folder path of the detections from template matching (which should contain one xml file for each day of detection):\n",
    "input_folder = '/Users/zoekrauss/seismicloud/data/detections/'\n",
    "\n",
    "# Output file path for where you want the combined results from all detections to be written to:\n",
    "output_catalog_path = '/Users/zoekrauss/seismicloud/data/catalogs/tm_2017_testresults.xml'\n",
    "\n",
    "# Threshold in seconds at which to call a detection a duplicate if it is found by multiple templates. The detection with the higher detect_val will be kept\n",
    "threshold = 1"
   ]
  },
  {
   "cell_type": "code",
   "execution_count": 15,
   "id": "e305a82c-89e7-4dd0-abbc-90a48dd0929b",
   "metadata": {},
   "outputs": [],
   "source": [
    "interpreter_path = sys.executable\n",
    "script_path = '/Users/zoekrauss/seismicloud/scripts/template_matching/process_detections.py'\n",
    "\n",
    "command = ' '.join([interpreter_path,script_path,'--input',input_folder,'--output',output_catalog_path,'--threshold',str(threshold)])"
   ]
  },
  {
   "cell_type": "code",
   "execution_count": 16,
   "id": "4b51e817-de7e-4701-9f19-7124e2c743ed",
   "metadata": {},
   "outputs": [
    {
     "data": {
      "text/plain": [
       "0"
      ]
     },
     "execution_count": 16,
     "metadata": {},
     "output_type": "execute_result"
    }
   ],
   "source": [
    "# Execute!\n",
    "\n",
    "os.system(command)"
   ]
  },
  {
   "cell_type": "code",
   "execution_count": 30,
   "id": "29c8b582-3de1-43cf-abb2-932b5c65e963",
   "metadata": {},
   "outputs": [
    {
     "data": {
      "text/plain": [
       "369 Event(s) in Catalog:\n",
       "\n",
       "\n",
       "...\n",
       "\n",
       "\n",
       "To see all events call 'print(CatalogObject.__str__(print_all=True))'"
      ]
     },
     "execution_count": 30,
     "metadata": {},
     "output_type": "execute_result"
    }
   ],
   "source": [
    "# Look at the output!\n",
    "result_cat = obspy.core.event.read_events(output_catalog_path,format='QUAKEML')\n",
    "result_cat"
   ]
  },
  {
   "cell_type": "markdown",
   "id": "e3ca5c73-39b3-416e-9fb0-1df4e0ac003f",
   "metadata": {},
   "source": [
    "## Processing results from EQT"
   ]
  },
  {
   "cell_type": "code",
   "execution_count": null,
   "id": "97c01f14-e7b0-4723-ab28-4344db78bb5a",
   "metadata": {},
   "outputs": [],
   "source": []
  }
 ],
 "metadata": {
  "kernelspec": {
   "display_name": "alaska-ml",
   "language": "python",
   "name": "alaska-ml"
  },
  "language_info": {
   "codemirror_mode": {
    "name": "ipython",
    "version": 3
   },
   "file_extension": ".py",
   "mimetype": "text/x-python",
   "name": "python",
   "nbconvert_exporter": "python",
   "pygments_lexer": "ipython3",
   "version": "3.9.12"
  }
 },
 "nbformat": 4,
 "nbformat_minor": 5
}
