{
 "cells": [
  {
   "cell_type": "markdown",
   "metadata": {},
   "source": [
    "# Notebook S3"
   ]
  },
  {
   "cell_type": "markdown",
   "metadata": {},
   "source": [
    "This notebook takes you through the steps to outprocess detections (from template matching) or picks (from EQT) into QuakeML catalogs after the processing in Notebook S2 is complete."
   ]
  },
  {
   "cell_type": "code",
   "execution_count": 3,
   "metadata": {},
   "outputs": [],
   "source": [
    "import sys\n",
    "import os\n",
    "import obspy"
   ]
  },
  {
   "cell_type": "markdown",
   "metadata": {},
   "source": [
    "## Processing results from Template Matching"
   ]
  },
  {
   "cell_type": "markdown",
   "metadata": {},
   "source": [
    "#### We see that the output from TM is one .xml file for each day of detection that was run. We can look at one of these as follows:"
   ]
  },
  {
   "cell_type": "code",
   "execution_count": 10,
   "metadata": {},
   "outputs": [],
   "source": [
    "daily_detection = '/Users/Zoe/seismicloud/data/detections/NV_2017_161.xml'\n",
    "daily_cat = obspy.core.event.read_events(daily_detection,format='QUAKEML')"
   ]
  },
  {
   "cell_type": "code",
   "execution_count": 13,
   "metadata": {},
   "outputs": [
    {
     "data": {
      "text/plain": [
       "369 Event(s) in Catalog:\n",
       "\n",
       "\n",
       "...\n",
       "\n",
       "\n",
       "To see all events call 'print(CatalogObject.__str__(print_all=True))'"
      ]
     },
     "execution_count": 13,
     "metadata": {},
     "output_type": "execute_result"
    }
   ],
   "source": [
    "daily_cat"
   ]
  },
  {
   "cell_type": "markdown",
   "metadata": {},
   "source": [
    "#### If we want to combine all of the days into one and remove duplicates between templates, we can do the following:"
   ]
  },
  {
   "cell_type": "code",
   "execution_count": 14,
   "metadata": {},
   "outputs": [],
   "source": [
    "# Output folder path of the detections from template matching (which should contain one xml file for each day of detection):\n",
    "input_folder = '/Users/zoekrauss/seismicloud/data/detections/'\n",
    "\n",
    "# Output file path for where you want the combined results from all detections to be written to:\n",
    "output_catalog_path = '/Users/zoekrauss/seismicloud/data/catalogs/tm_2017_testresults.xml'\n",
    "\n",
    "# Threshold in seconds at which to call a detection a duplicate if it is found by multiple templates. The detection with the higher detect_val will be kept\n",
    "threshold = 1"
   ]
  },
  {
   "cell_type": "code",
   "execution_count": 15,
   "metadata": {},
   "outputs": [],
   "source": [
    "interpreter_path = sys.executable\n",
    "script_path = '/Users/zoekrauss/seismicloud/scripts/template_matching/process_detections.py'\n",
    "\n",
    "command = ' '.join([interpreter_path,script_path,'--input',input_folder,'--output',output_catalog_path,'--threshold',str(threshold)])"
   ]
  },
  {
   "cell_type": "code",
   "execution_count": 16,
   "metadata": {},
   "outputs": [
    {
     "data": {
      "text/plain": [
       "0"
      ]
     },
     "execution_count": 16,
     "metadata": {},
     "output_type": "execute_result"
    }
   ],
   "source": [
    "# Execute!\n",
    "\n",
    "os.system(command)"
   ]
  },
  {
   "cell_type": "code",
   "execution_count": 30,
   "metadata": {},
   "outputs": [
    {
     "data": {
      "text/plain": [
       "369 Event(s) in Catalog:\n",
       "\n",
       "\n",
       "...\n",
       "\n",
       "\n",
       "To see all events call 'print(CatalogObject.__str__(print_all=True))'"
      ]
     },
     "execution_count": 30,
     "metadata": {},
     "output_type": "execute_result"
    }
   ],
   "source": [
    "# Look at the output!\n",
    "result_cat = obspy.core.event.read_events(output_catalog_path,format='QUAKEML')\n",
    "result_cat"
   ]
  },
  {
   "cell_type": "markdown",
   "metadata": {},
   "source": [
    "## Processing results from EQT"
   ]
  },
  {
   "cell_type": "markdown",
   "metadata": {},
   "source": [
    "The script to take output picks from EQT and associate them into earthquake detections uses Gamma, and takes the config file as input. So, make sure you specify the correct parameters in the association section of the config file (including pathnames of where the picks are, and where you want the catalog to be written to!)"
   ]
  },
  {
   "cell_type": "code",
   "execution_count": null,
   "metadata": {},
   "outputs": [],
   "source": [
    "interpreter_path = sys.executable\n",
    "script_path = '/Users/zoekrauss/seismicloud/scripts/associate/association.py'\n",
    "config_path = ''\n",
    "year = 2017\n",
    "\n",
    "command = ' '.join([interpreter_path,script_path,'--config',config_path,'--year',str(year))"
   ]
  },
  {
   "cell_type": "code",
   "execution_count": null,
   "metadata": {},
   "outputs": [],
   "source": [
    "# Execute!\n",
    "\n",
    "os.system(command)"
   ]
  }
 ],
 "metadata": {
  "kernelspec": {
   "display_name": "alaska-ml",
   "language": "python",
   "name": "alaska-ml"
  },
  "language_info": {
   "codemirror_mode": {
    "name": "ipython",
    "version": 3
   },
   "file_extension": ".py",
   "mimetype": "text/x-python",
   "name": "python",
   "nbconvert_exporter": "python",
   "pygments_lexer": "ipython3",
   "version": "3.9.9"
  }
 },
 "nbformat": 4,
 "nbformat_minor": 5
}
